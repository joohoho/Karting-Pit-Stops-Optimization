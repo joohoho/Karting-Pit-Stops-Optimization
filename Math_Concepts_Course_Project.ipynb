{
 "cells": [
  {
   "cell_type": "code",
   "execution_count": 1,
   "id": "b4e4ee9d-4ba9-4207-b747-dc66ab091fb9",
   "metadata": {},
   "outputs": [],
   "source": [
    "# imports\n",
    "import numpy as np\n",
    "import pandas as pd\n",
    "import matplotlib.pyplot as plt\n",
    "\n",
    "import scipy.stats as stats\n",
    "\n",
    "from sklearn import tree\n",
    "from sklearn.tree import DecisionTreeClassifier\n",
    "from sklearn.model_selection import train_test_split\n",
    "from sklearn.metrics import accuracy_score\n",
    "\n",
    "# inline plotting\n",
    "%matplotlib inline"
   ]
  },
  {
   "cell_type": "markdown",
   "id": "57ff53d8-116f-4310-aefd-57f0572bfb71",
   "metadata": {},
   "source": [
    "# Karting Pit Stops Optimization  \n",
    "## From Entropy to Decision Tree Exploration."
   ]
  },
  {
   "cell_type": "markdown",
   "id": "0a9ac974-d3e2-40ab-8504-92834021c9b7",
   "metadata": {},
   "source": [
    "### Problem to solve\n",
    "\n",
    "We want to optimize a karting competition performance of a team for future competitions on the same track. Crutial task is to know when to pit stop and more precisely in which conditions to make the pit stops. In other words how long to stay on the track or how long should a stint be.\n",
    "\n",
    "I want to start by exploring the entropy of each column (or variable) to understand our data better."
   ]
  },
  {
   "cell_type": "markdown",
   "id": "41874eb7-45bd-4e79-ac5c-f210c8797dcc",
   "metadata": {},
   "source": [
    "#### What is entropy? \n",
    "We can think of entropy as a measure of disorder or as a measure of purity as well. In information theory, [the entropy](https://en.wikipedia.org/wiki/Entropy_(information_theory)) of a random variable is the average level of information, surprise, or uncertainty inherent to the descrete variable's possible outcomes. The mathematical formula is:\n",
    "\n",
    "$$E(S) = - \\sum_{i=1}^c p_i \\log{_2}{p_i} $$\n",
    "\n",
    "Where $E(S)$ is the entropy, $i$ is a random element in our dataset, and $p_i$ is the frequentist probability of an event.\n",
    "The choice of base for  $\\log$, the logarithm, varies for different applications. Base 2 gives the unit of bits (or \"Shannon's\" entropy), while base $e$ gives \"natural units\" nat."
   ]
  },
  {
   "cell_type": "markdown",
   "id": "6d949e86-d98a-4f88-8e53-19695cef24b6",
   "metadata": {},
   "source": [
    "#### What is entropy of continuous variables or continuous entropy?\n",
    "We are trying to understand a dataset with karting competition results. In it, we see descrete and continuous variables. So we need a way to calculate entropy in continuous variables too, called continuous entropy. Here we can use the intuitions about limits and integrals computation. The mathematical equation formulated by Shanon, known as [differential entropy](https://en.wikipedia.org/wiki/Differential_entropy) is:\n",
    "\n",
    "$$ H(X) = -\\int_{-\\infty}^{+\\infty} f(x)\\log f(x) d(x) $$\n",
    "\n",
    "The solution of [numerical estimation of entropy](https://link.springer.com/article/10.1007/s40745-015-0045-9) for a continuous set of points is proposed by many authors. Those estimators come as an improvement of the formula, firstly given by Shanon."
   ]
  },
  {
   "cell_type": "markdown",
   "id": "9343602b-6653-4366-b4b1-8aa14b63bf5f",
   "metadata": {},
   "source": [
    "#### Data import and summary\n",
    "\n",
    "Let's now import our dataset and get sense of it."
   ]
  },
  {
   "cell_type": "code",
   "execution_count": 2,
   "id": "75dd5314-15dc-4fe7-bb62-b4a64f853e36",
   "metadata": {},
   "outputs": [
    {
     "data": {
      "text/html": [
       "<div>\n",
       "<style scoped>\n",
       "    .dataframe tbody tr th:only-of-type {\n",
       "        vertical-align: middle;\n",
       "    }\n",
       "\n",
       "    .dataframe tbody tr th {\n",
       "        vertical-align: top;\n",
       "    }\n",
       "\n",
       "    .dataframe thead th {\n",
       "        text-align: right;\n",
       "    }\n",
       "</style>\n",
       "<table border=\"1\" class=\"dataframe\">\n",
       "  <thead>\n",
       "    <tr style=\"text-align: right;\">\n",
       "      <th></th>\n",
       "      <th>team id</th>\n",
       "      <th>category</th>\n",
       "      <th>n pit stop</th>\n",
       "      <th>n lap</th>\n",
       "      <th>cum race time</th>\n",
       "      <th>cum pit time</th>\n",
       "      <th>stint time</th>\n",
       "      <th>stint laps</th>\n",
       "      <th>pilot id</th>\n",
       "      <th>pilot total stint time</th>\n",
       "      <th>best lap</th>\n",
       "      <th>avg lap</th>\n",
       "      <th>pit time</th>\n",
       "      <th>cum time out</th>\n",
       "      <th>weather con</th>\n",
       "    </tr>\n",
       "  </thead>\n",
       "  <tbody>\n",
       "    <tr>\n",
       "      <th>0</th>\n",
       "      <td>35</td>\n",
       "      <td>pro</td>\n",
       "      <td>1</td>\n",
       "      <td>39</td>\n",
       "      <td>0.030104</td>\n",
       "      <td>0.001609</td>\n",
       "      <td>0.030104</td>\n",
       "      <td>39</td>\n",
       "      <td>1</td>\n",
       "      <td>0.030104</td>\n",
       "      <td>0.000714</td>\n",
       "      <td>0.000742</td>\n",
       "      <td>0.001616</td>\n",
       "      <td>0.031713</td>\n",
       "      <td>moist</td>\n",
       "    </tr>\n",
       "    <tr>\n",
       "      <th>1</th>\n",
       "      <td>35</td>\n",
       "      <td>pro</td>\n",
       "      <td>2</td>\n",
       "      <td>84</td>\n",
       "      <td>0.062373</td>\n",
       "      <td>0.003183</td>\n",
       "      <td>0.030648</td>\n",
       "      <td>45</td>\n",
       "      <td>2</td>\n",
       "      <td>0.030648</td>\n",
       "      <td>0.007000</td>\n",
       "      <td>0.041000</td>\n",
       "      <td>0.001573</td>\n",
       "      <td>0.063947</td>\n",
       "      <td>moist</td>\n",
       "    </tr>\n",
       "    <tr>\n",
       "      <th>2</th>\n",
       "      <td>35</td>\n",
       "      <td>pro</td>\n",
       "      <td>3</td>\n",
       "      <td>131</td>\n",
       "      <td>0.094201</td>\n",
       "      <td>0.004769</td>\n",
       "      <td>0.030255</td>\n",
       "      <td>47</td>\n",
       "      <td>3</td>\n",
       "      <td>0.030255</td>\n",
       "      <td>0.018667</td>\n",
       "      <td>0.016000</td>\n",
       "      <td>0.001582</td>\n",
       "      <td>0.095787</td>\n",
       "      <td>moist</td>\n",
       "    </tr>\n",
       "    <tr>\n",
       "      <th>3</th>\n",
       "      <td>35</td>\n",
       "      <td>pro</td>\n",
       "      <td>4</td>\n",
       "      <td>180</td>\n",
       "      <td>0.126435</td>\n",
       "      <td>0.006343</td>\n",
       "      <td>0.030637</td>\n",
       "      <td>49</td>\n",
       "      <td>2</td>\n",
       "      <td>0.061296</td>\n",
       "      <td>0.037667</td>\n",
       "      <td>0.033667</td>\n",
       "      <td>0.001574</td>\n",
       "      <td>0.128009</td>\n",
       "      <td>dry</td>\n",
       "    </tr>\n",
       "    <tr>\n",
       "      <th>4</th>\n",
       "      <td>35</td>\n",
       "      <td>pro</td>\n",
       "      <td>5</td>\n",
       "      <td>229</td>\n",
       "      <td>0.158565</td>\n",
       "      <td>0.007917</td>\n",
       "      <td>0.030556</td>\n",
       "      <td>49</td>\n",
       "      <td>3</td>\n",
       "      <td>0.060822</td>\n",
       "      <td>0.025000</td>\n",
       "      <td>0.029667</td>\n",
       "      <td>0.001576</td>\n",
       "      <td>0.160150</td>\n",
       "      <td>dry</td>\n",
       "    </tr>\n",
       "  </tbody>\n",
       "</table>\n",
       "</div>"
      ],
      "text/plain": [
       "   team id category  n pit stop  n lap  cum race time  cum pit time  \\\n",
       "0       35      pro           1     39       0.030104      0.001609   \n",
       "1       35      pro           2     84       0.062373      0.003183   \n",
       "2       35      pro           3    131       0.094201      0.004769   \n",
       "3       35      pro           4    180       0.126435      0.006343   \n",
       "4       35      pro           5    229       0.158565      0.007917   \n",
       "\n",
       "   stint time  stint laps  pilot id  pilot total stint time  best lap  \\\n",
       "0    0.030104          39         1                0.030104  0.000714   \n",
       "1    0.030648          45         2                0.030648  0.007000   \n",
       "2    0.030255          47         3                0.030255  0.018667   \n",
       "3    0.030637          49         2                0.061296  0.037667   \n",
       "4    0.030556          49         3                0.060822  0.025000   \n",
       "\n",
       "    avg lap  pit time  cum time out weather con  \n",
       "0  0.000742  0.001616      0.031713       moist  \n",
       "1  0.041000  0.001573      0.063947       moist  \n",
       "2  0.016000  0.001582      0.095787       moist  \n",
       "3  0.033667  0.001574      0.128009         dry  \n",
       "4  0.029667  0.001576      0.160150         dry  "
      ]
     },
     "execution_count": 2,
     "metadata": {},
     "output_type": "execute_result"
    }
   ],
   "source": [
    "# Import dataset\n",
    "\n",
    "pit_stops = pd.read_csv(\"C:/Users/User/OneDrive/Documents/AI SoftUni 2023/Math for Dev 2023/0.Project/pit_stops_formatted.csv\")\n",
    "pit_stops.head()"
   ]
  },
  {
   "cell_type": "code",
   "execution_count": 3,
   "id": "f7b6beeb-7915-47b9-ad50-8a14e1c2804f",
   "metadata": {},
   "outputs": [
    {
     "name": "stdout",
     "output_type": "stream",
     "text": [
      "<class 'pandas.core.frame.DataFrame'>\n",
      "RangeIndex: 933 entries, 0 to 932\n",
      "Data columns (total 15 columns):\n",
      " #   Column                  Non-Null Count  Dtype  \n",
      "---  ------                  --------------  -----  \n",
      " 0   team id                 933 non-null    int64  \n",
      " 1   category                933 non-null    object \n",
      " 2   n pit stop              933 non-null    int64  \n",
      " 3   n lap                   933 non-null    int64  \n",
      " 4   cum race time           933 non-null    float64\n",
      " 5   cum pit time            933 non-null    float64\n",
      " 6   stint time              933 non-null    float64\n",
      " 7   stint laps              933 non-null    int64  \n",
      " 8   pilot id                933 non-null    int64  \n",
      " 9   pilot total stint time  933 non-null    float64\n",
      " 10  best lap                933 non-null    float64\n",
      " 11  avg lap                 933 non-null    float64\n",
      " 12  pit time                933 non-null    float64\n",
      " 13  cum time out            933 non-null    float64\n",
      " 14  weather con             933 non-null    object \n",
      "dtypes: float64(8), int64(5), object(2)\n",
      "memory usage: 109.5+ KB\n"
     ]
    }
   ],
   "source": [
    "# View summary of the dataset\n",
    "\n",
    "pit_stops.info()"
   ]
  },
  {
   "cell_type": "markdown",
   "id": "e14f107a-aeae-4512-995c-542103a75864",
   "metadata": {},
   "source": [
    "We have 933 observations and 15 columns. There are no null values. There are 3 different value types: 8 variables are float, 5 - integer type and 2 are categorical."
   ]
  },
  {
   "cell_type": "markdown",
   "id": "1895c5ce-a6f6-4bc4-9390-04eb8f7c53be",
   "metadata": {},
   "source": [
    "#### Data types transformations\n",
    "\n",
    "We see that two of the variables (\"category\" and \"weather con\") are categorical types, that we won't be able to work with. We need to change them to numerical types."
   ]
  },
  {
   "cell_type": "code",
   "execution_count": 4,
   "id": "fd8f919a-910e-44a3-95e4-4bfb12bed2fa",
   "metadata": {},
   "outputs": [
    {
     "data": {
      "text/html": [
       "<div>\n",
       "<style scoped>\n",
       "    .dataframe tbody tr th:only-of-type {\n",
       "        vertical-align: middle;\n",
       "    }\n",
       "\n",
       "    .dataframe tbody tr th {\n",
       "        vertical-align: top;\n",
       "    }\n",
       "\n",
       "    .dataframe thead th {\n",
       "        text-align: right;\n",
       "    }\n",
       "</style>\n",
       "<table border=\"1\" class=\"dataframe\">\n",
       "  <thead>\n",
       "    <tr style=\"text-align: right;\">\n",
       "      <th></th>\n",
       "      <th>team id</th>\n",
       "      <th>category</th>\n",
       "      <th>n pit stop</th>\n",
       "      <th>n lap</th>\n",
       "      <th>cum race time</th>\n",
       "      <th>cum pit time</th>\n",
       "      <th>stint time</th>\n",
       "      <th>stint laps</th>\n",
       "      <th>pilot id</th>\n",
       "      <th>pilot total stint time</th>\n",
       "      <th>best lap</th>\n",
       "      <th>avg lap</th>\n",
       "      <th>pit time</th>\n",
       "      <th>cum time out</th>\n",
       "      <th>weather con</th>\n",
       "    </tr>\n",
       "  </thead>\n",
       "  <tbody>\n",
       "    <tr>\n",
       "      <th>0</th>\n",
       "      <td>35</td>\n",
       "      <td>3</td>\n",
       "      <td>1</td>\n",
       "      <td>39</td>\n",
       "      <td>0.030104</td>\n",
       "      <td>0.001609</td>\n",
       "      <td>0.030104</td>\n",
       "      <td>39</td>\n",
       "      <td>1</td>\n",
       "      <td>0.030104</td>\n",
       "      <td>0.000714</td>\n",
       "      <td>0.000742</td>\n",
       "      <td>0.001616</td>\n",
       "      <td>0.031713</td>\n",
       "      <td>2</td>\n",
       "    </tr>\n",
       "    <tr>\n",
       "      <th>1</th>\n",
       "      <td>35</td>\n",
       "      <td>3</td>\n",
       "      <td>2</td>\n",
       "      <td>84</td>\n",
       "      <td>0.062373</td>\n",
       "      <td>0.003183</td>\n",
       "      <td>0.030648</td>\n",
       "      <td>45</td>\n",
       "      <td>2</td>\n",
       "      <td>0.030648</td>\n",
       "      <td>0.007000</td>\n",
       "      <td>0.041000</td>\n",
       "      <td>0.001573</td>\n",
       "      <td>0.063947</td>\n",
       "      <td>2</td>\n",
       "    </tr>\n",
       "    <tr>\n",
       "      <th>2</th>\n",
       "      <td>35</td>\n",
       "      <td>3</td>\n",
       "      <td>3</td>\n",
       "      <td>131</td>\n",
       "      <td>0.094201</td>\n",
       "      <td>0.004769</td>\n",
       "      <td>0.030255</td>\n",
       "      <td>47</td>\n",
       "      <td>3</td>\n",
       "      <td>0.030255</td>\n",
       "      <td>0.018667</td>\n",
       "      <td>0.016000</td>\n",
       "      <td>0.001582</td>\n",
       "      <td>0.095787</td>\n",
       "      <td>2</td>\n",
       "    </tr>\n",
       "    <tr>\n",
       "      <th>3</th>\n",
       "      <td>35</td>\n",
       "      <td>3</td>\n",
       "      <td>4</td>\n",
       "      <td>180</td>\n",
       "      <td>0.126435</td>\n",
       "      <td>0.006343</td>\n",
       "      <td>0.030637</td>\n",
       "      <td>49</td>\n",
       "      <td>2</td>\n",
       "      <td>0.061296</td>\n",
       "      <td>0.037667</td>\n",
       "      <td>0.033667</td>\n",
       "      <td>0.001574</td>\n",
       "      <td>0.128009</td>\n",
       "      <td>1</td>\n",
       "    </tr>\n",
       "    <tr>\n",
       "      <th>4</th>\n",
       "      <td>35</td>\n",
       "      <td>3</td>\n",
       "      <td>5</td>\n",
       "      <td>229</td>\n",
       "      <td>0.158565</td>\n",
       "      <td>0.007917</td>\n",
       "      <td>0.030556</td>\n",
       "      <td>49</td>\n",
       "      <td>3</td>\n",
       "      <td>0.060822</td>\n",
       "      <td>0.025000</td>\n",
       "      <td>0.029667</td>\n",
       "      <td>0.001576</td>\n",
       "      <td>0.160150</td>\n",
       "      <td>1</td>\n",
       "    </tr>\n",
       "  </tbody>\n",
       "</table>\n",
       "</div>"
      ],
      "text/plain": [
       "   team id  category  n pit stop  n lap  cum race time  cum pit time  \\\n",
       "0       35         3           1     39       0.030104      0.001609   \n",
       "1       35         3           2     84       0.062373      0.003183   \n",
       "2       35         3           3    131       0.094201      0.004769   \n",
       "3       35         3           4    180       0.126435      0.006343   \n",
       "4       35         3           5    229       0.158565      0.007917   \n",
       "\n",
       "   stint time  stint laps  pilot id  pilot total stint time  best lap  \\\n",
       "0    0.030104          39         1                0.030104  0.000714   \n",
       "1    0.030648          45         2                0.030648  0.007000   \n",
       "2    0.030255          47         3                0.030255  0.018667   \n",
       "3    0.030637          49         2                0.061296  0.037667   \n",
       "4    0.030556          49         3                0.060822  0.025000   \n",
       "\n",
       "    avg lap  pit time  cum time out  weather con  \n",
       "0  0.000742  0.001616      0.031713            2  \n",
       "1  0.041000  0.001573      0.063947            2  \n",
       "2  0.016000  0.001582      0.095787            2  \n",
       "3  0.033667  0.001574      0.128009            1  \n",
       "4  0.029667  0.001576      0.160150            1  "
      ]
     },
     "execution_count": 4,
     "metadata": {},
     "output_type": "execute_result"
    }
   ],
   "source": [
    "# Change categorical values into numerical values using dictionaries\n",
    "\n",
    "dic1 = {\"pro\": 3, \"gold\": 2, \"silver\": 1, \"DSQ\": 0}\n",
    "dic2 = {\"dry\": 1, \"moist\": 2, \"wet\": 3}\n",
    "pit_stops[\"category\"] = pit_stops[\"category\"].map(dic1)\n",
    "pit_stops[\"weather con\"] = pit_stops[\"weather con\"].map(dic2)\n",
    "\n",
    "pit_stops.head()"
   ]
  },
  {
   "cell_type": "markdown",
   "id": "9fa712ae-968d-4b96-b343-d620b6a656ed",
   "metadata": {},
   "source": [
    "What we did is to map the different states (string values) with numbers and replace them in our columns."
   ]
  },
  {
   "cell_type": "markdown",
   "id": "591384b1-80e2-494b-9529-19dbddb3de90",
   "metadata": {},
   "source": [
    "#### Calculate entropy of the data according to the type of values - descrete or continuous\n",
    "\n",
    "Now let's calculate the entropy of each column. We need to separate descrete from continuous variables and calculate them separately. Continuous entropy is a relative entropy, not absolute. They have their own scale, which differs from the scale of the descrete values' entropy.  \n",
    "\n",
    "We can use scipy.stats library directly or build a function. Let's define a function as this is the main goal of this project. :)"
   ]
  },
  {
   "cell_type": "code",
   "execution_count": 5,
   "id": "4be6934c-71a5-45f2-9da8-ca134981bfa5",
   "metadata": {},
   "outputs": [
    {
     "data": {
      "text/plain": [
       "team id        5.640294\n",
       "category       1.688049\n",
       "n pit stop     4.294470\n",
       "pilot id       1.715749\n",
       "weather con    1.537311\n",
       "dtype: float64"
      ]
     },
     "execution_count": 5,
     "metadata": {},
     "output_type": "execute_result"
    }
   ],
   "source": [
    "# Define descrete variables\n",
    "\n",
    "descrete_vars = pit_stops[[\"team id\", \"category\", \"n pit stop\", \"pilot id\", \"weather con\"]]\n",
    "\n",
    "# Function to compute descrete entropy\n",
    "\n",
    "def descrete_entropy(dataset = descrete_vars):\n",
    "    num_el = len(dataset)\n",
    "    val_counts = dataset.value_counts()\n",
    "    probs = val_counts / num_el\n",
    "    base = 2            # setting bits as a measure unit\n",
    "    \n",
    "    en = - np.sum(probs * np.log(probs) / np.log(base))\n",
    "    return en\n",
    "\n",
    "# Showing entropy per each variable\n",
    "\n",
    "vars_en_desc = descrete_vars.apply(descrete_entropy, axis = 0)\n",
    "vars_en_desc"
   ]
  },
  {
   "cell_type": "markdown",
   "id": "2f5a74e3-19eb-4bcc-b0ee-0e0c5e7456b2",
   "metadata": {},
   "source": [
    "#### Scale up the results\n",
    "\n",
    "Let's scale up what we get to receive entropy between 0 and 1, although it is not crucial for the comparison. However, it's more intuitive. We need to multiply the values with $\\log$ with a base number of the parameters in the dataset. In my case, 5. I am using [change of base log rule](https://en.wikipedia.org/wiki/Logarithm#Change_of_base).\n",
    "\n",
    "$$\\log {_b} x = \\frac {\\log {_c} x} {\\log {_c} b} $$"
   ]
  },
  {
   "cell_type": "code",
   "execution_count": 6,
   "id": "c112be28-1681-4a6d-931f-901b4c70eba3",
   "metadata": {},
   "outputs": [
    {
     "data": {
      "text/plain": [
       "team id        1.074870\n",
       "category       0.325315\n",
       "n pit stop     0.905489\n",
       "pilot id       0.335428\n",
       "weather con    0.267196\n",
       "dtype: float64"
      ]
     },
     "execution_count": 6,
     "metadata": {},
     "output_type": "execute_result"
    }
   ],
   "source": [
    "# Scaling them up to get numbers between 0 and 1\n",
    "\n",
    "base = 5\n",
    "vars_en_desc_scaled = np.log(vars_en_desc) / np.log(base)\n",
    "\n",
    "vars_en_desc_scaled"
   ]
  },
  {
   "cell_type": "code",
   "execution_count": 7,
   "id": "d773da6b-2b77-4d27-a4db-627ddf2850d6",
   "metadata": {},
   "outputs": [
    {
     "data": {
      "image/png": "[encoded data removed]",
      "text/plain": [
       "<Figure size 640x480 with 1 Axes>"
      ]
     },
     "metadata": {},
     "output_type": "display_data"
    }
   ],
   "source": [
    "# Plot the entropy of descrete varables\n",
    "\n",
    "def plot_en():\n",
    "    plt.scatter(np.arange(1, len(vars_en_desc_scaled) + 1, 1), vars_en_desc_scaled, c = \"b\")\n",
    "    plt.xlabel(\"n variable\")\n",
    "    plt.ylabel(\"entropy\")\n",
    "    plt.title(\"Entropy of descrete variables\")\n",
    "    plt.xticks(np.arange(1, 6, 1))\n",
    "    plt.yticks(np.arange(0, 1.2, 0.1))\n",
    "    return plt.show()\n",
    "plot_en()"
   ]
  },
  {
   "cell_type": "markdown",
   "id": "1809f162-dea7-43ef-89b7-5569f4d8fc3e",
   "metadata": {},
   "source": [
    "#### Continuous variables\n",
    "Now let's see what is going on with the entropy of all other features."
   ]
  },
  {
   "cell_type": "code",
   "execution_count": 8,
   "id": "af7ea133-71d7-4a1a-8136-58cbe96e275e",
   "metadata": {},
   "outputs": [
    {
     "name": "stderr",
     "output_type": "stream",
     "text": [
      "C:\\Users\\User\\anaconda3\\lib\\site-packages\\scipy\\stats\\_entropy.py:380: RuntimeWarning: divide by zero encountered in log\n",
      "  logs = np.log(n * differences / (ci * m))\n"
     ]
    },
    {
     "data": {
      "text/plain": [
       "n lap                     5.934575\n",
       "cum race time            -1.275828\n",
       "cum pit time                  -inf\n",
       "stint time               -3.988572\n",
       "stint laps                    -inf\n",
       "pilot total stint time   -1.888840\n",
       "best lap                      -inf\n",
       "avg lap                       -inf\n",
       "pit time                      -inf\n",
       "cum time out             -1.283559\n",
       "dtype: float64"
      ]
     },
     "execution_count": 8,
     "metadata": {},
     "output_type": "execute_result"
    }
   ],
   "source": [
    "# Define continuous variables\n",
    "\n",
    "continuous_vars = pit_stops.drop([\"team id\", \"category\", \"n pit stop\", \"pilot id\", \"weather con\"], axis = 1)\n",
    "\n",
    "# Function to calculate continuous entropy using scipy.stats library\n",
    "\n",
    "def continuous_en(dataset = continuous_vars):   \n",
    "    con_en = stats.differential_entropy(dataset)\n",
    "    return con_en\n",
    "\n",
    "# Showing entropy per each variable\n",
    "\n",
    "vars_con_en = continuous_vars.apply(continuous_en, axis = 0)\n",
    "vars_con_en"
   ]
  },
  {
   "cell_type": "markdown",
   "id": "bbb15c4d-0d23-46e1-b66f-3488faeacf04",
   "metadata": {},
   "source": [
    "We see that we have encountered a \"divide by zero\" error. Checking the data shows that we do not have zeros, but very small integers. Let's check the PDF of one of the continuous variables - column \"stint laps\" in more detail."
   ]
  },
  {
   "cell_type": "code",
   "execution_count": 9,
   "id": "4265468a-52e9-4c92-9b9a-0a2b5e5ba552",
   "metadata": {},
   "outputs": [
    {
     "data": {
      "text/plain": [
       "(array([201.,  11.,  22.,   8.,  27.,  21.,  13.,  23.,  29.,  16.,  32.,\n",
       "         27.,  27.,  13.,  23.,  34.,  28.,  24.,  33.,  13.,  22.,  34.,\n",
       "         27.,   9.,  35.,  35.,  28.,  57.,  60.,   1.]),\n",
       " array([ 1. ,  2.7,  4.4,  6.1,  7.8,  9.5, 11.2, 12.9, 14.6, 16.3, 18. ,\n",
       "        19.7, 21.4, 23.1, 24.8, 26.5, 28.2, 29.9, 31.6, 33.3, 35. , 36.7,\n",
       "        38.4, 40.1, 41.8, 43.5, 45.2, 46.9, 48.6, 50.3, 52. ]),\n",
       " <BarContainer object of 30 artists>)"
      ]
     },
     "execution_count": 9,
     "metadata": {},
     "output_type": "execute_result"
    },
    {
     "data": {
      "image/png": "[encoded data removed]",
      "text/plain": [
       "<Figure size 640x480 with 1 Axes>"
      ]
     },
     "metadata": {},
     "output_type": "display_data"
    }
   ],
   "source": [
    "# Vizualize stint laps values\n",
    "\n",
    "plt.hist(pit_stops[\"stint laps\"], bins = 30)"
   ]
  },
  {
   "cell_type": "markdown",
   "id": "2e235246-9228-4cdf-92fa-9bfa528665d4",
   "metadata": {},
   "source": [
    "We see high occurance of the value \"1\" in the data. 201 of total 933 observations show to be \"1\"."
   ]
  },
  {
   "cell_type": "code",
   "execution_count": 10,
   "id": "692a8f44-cccc-4b95-931b-aeadef863edc",
   "metadata": {},
   "outputs": [
    {
     "data": {
      "image/png": "[encoded data removed]",
      "text/plain": [
       "<Figure size 640x480 with 1 Axes>"
      ]
     },
     "metadata": {},
     "output_type": "display_data"
    }
   ],
   "source": [
    "# Function to calculate frequentist probability\n",
    "\n",
    "def prob(dataset):   \n",
    "    num_el = len(dataset)\n",
    "    val_counts = dataset.value_counts()\n",
    "    probs = val_counts / num_el\n",
    "    return probs\n",
    "\n",
    "# Vizualize probabilities \n",
    "prob_stintlaps = np.array(prob(pit_stops[\"stint laps\"]))\n",
    "\n",
    "plt.plot(np.arange(0, len(prob_stintlaps)), prob_stintlaps)\n",
    "plt.xlabel(\"stint laps\")\n",
    "plt.ylabel(\"probability\")\n",
    "plt.title(\"Stint laps probabilities\")\n",
    "plt.show()"
   ]
  },
  {
   "cell_type": "markdown",
   "id": "7452c74e-e131-4269-ab71-5b358305ba66",
   "metadata": {},
   "source": [
    "This distribution looks to be exponential. Let's build a function to calculate the continuous entropy of an exponential probability distribution."
   ]
  },
  {
   "cell_type": "code",
   "execution_count": 11,
   "id": "6a7cf562-6bfc-42bc-96bb-855de568c6d2",
   "metadata": {},
   "outputs": [
    {
     "name": "stderr",
     "output_type": "stream",
     "text": [
      "C:\\Users\\User\\AppData\\Local\\Temp\\ipykernel_14800\\1324376159.py:8: RuntimeWarning: divide by zero encountered in log\n",
      "  entropy = - np.trapz(pdf * np.log(pdf), x)\n",
      "C:\\Users\\User\\AppData\\Local\\Temp\\ipykernel_14800\\1324376159.py:8: RuntimeWarning: invalid value encountered in multiply\n",
      "  entropy = - np.trapz(pdf * np.log(pdf), x)\n"
     ]
    },
    {
     "data": {
      "text/plain": [
       "nan"
      ]
     },
     "execution_count": 11,
     "metadata": {},
     "output_type": "execute_result"
    }
   ],
   "source": [
    "# Function to calculate continuous entropy of an exponential distribution\n",
    "\n",
    "def continuous_entropy(pdf, x):\n",
    "    min_x = np.min(x)\n",
    "    max_x = np.max(x)\n",
    "    pdf = pdf(x)\n",
    "    \n",
    "    entropy = - np.trapz(pdf * np.log(pdf), x)\n",
    "    return entropy\n",
    "\n",
    "# Checking entropy of \"Stint laps\" column\n",
    "\n",
    "x = prob_stintlaps\n",
    "mu = np.mean(x)\n",
    "sigma = np.std(x)\n",
    "\n",
    "entropy = continuous_entropy(lambda x: stats.expon.pdf(x, mu, sigma), prob_stintlaps)\n",
    "entropy"
   ]
  },
  {
   "cell_type": "markdown",
   "id": "e7e81a30-a097-4f53-a269-e7b377fc3f5b",
   "metadata": {},
   "source": [
    "We get the same error message because we get zero values in the pdf. $ - \\infty $ results for the entropy are due to the encounter of values in the pdf whose probability are essentially zeros.\n",
    "\n",
    "Nevertheless we can get rid of the negative values for the entropy by transforming the data. We get negative values, as we are working with very small values. I am going to multiply them by $$\\frac {1}{x}$$"
   ]
  },
  {
   "cell_type": "code",
   "execution_count": 12,
   "id": "dd57f9c6-ef56-4739-bd70-d4d6d638496a",
   "metadata": {},
   "outputs": [
    {
     "name": "stderr",
     "output_type": "stream",
     "text": [
      "C:\\Users\\User\\anaconda3\\lib\\site-packages\\scipy\\stats\\_entropy.py:380: RuntimeWarning: divide by zero encountered in log\n",
      "  logs = np.log(n * differences / (ci * m))\n"
     ]
    },
    {
     "data": {
      "text/plain": [
       "array([2.26665502,       -inf, 5.4372038 ,       -inf, 3.63206283,\n",
       "             -inf,       -inf,       -inf, 2.22957197])"
      ]
     },
     "execution_count": 12,
     "metadata": {},
     "output_type": "execute_result"
    }
   ],
   "source": [
    "# Let's transform the data and calculate entropy for continuous variables again \n",
    "\n",
    "small_vars = np.array(continuous_vars.drop([\"n lap\"], axis = 1))\n",
    "transformed_vars = 1 / small_vars\n",
    "\n",
    "vars_en_con = stats.differential_entropy(transformed_vars)\n",
    "vars_en_con"
   ]
  },
  {
   "cell_type": "code",
   "execution_count": 13,
   "id": "8b34ac80-f296-4e9e-9057-9ad046b640a8",
   "metadata": {},
   "outputs": [
    {
     "name": "stderr",
     "output_type": "stream",
     "text": [
      "C:\\Users\\User\\AppData\\Local\\Temp\\ipykernel_14800\\2264522350.py:4: RuntimeWarning: invalid value encountered in log\n",
      "  vars_en_con_scaled = np.log(vars_en_con) / np.log(base)\n"
     ]
    },
    {
     "data": {
      "text/plain": [
       "array([0.37242674,        nan, 0.77063808,        nan, 0.58701362,\n",
       "              nan,        nan,        nan, 0.36491929])"
      ]
     },
     "execution_count": 13,
     "metadata": {},
     "output_type": "execute_result"
    }
   ],
   "source": [
    "# Scaling them up to get numbers between 0 and 1\n",
    "\n",
    "base = 9\n",
    "vars_en_con_scaled = np.log(vars_en_con) / np.log(base)\n",
    "\n",
    "vars_en_con_scaled"
   ]
  },
  {
   "cell_type": "code",
   "execution_count": 14,
   "id": "fb5f6cca-e748-4776-8e18-8eb5b78c66e9",
   "metadata": {},
   "outputs": [
    {
     "data": {
      "image/png": "[encoded data removed]",
      "text/plain": [
       "<Figure size 640x480 with 1 Axes>"
      ]
     },
     "metadata": {},
     "output_type": "display_data"
    }
   ],
   "source": [
    "# Plot the entropy of descrete and continuous varables\n",
    "\n",
    "def plot_en():\n",
    "    plt.scatter(np.arange(1, len(vars_en_desc_scaled) + 1, 1), vars_en_desc_scaled, c = \"b\", label = \"descrete vars\")\n",
    "    plt.scatter(np.arange(1, len(vars_en_con_scaled) + 1, 1), vars_en_con_scaled, c = \"r\", label = \"continuous vars\")\n",
    "    plt.xlabel(\"n variable\")\n",
    "    plt.ylabel(\"entropy\")\n",
    "    plt.title(\"Entropy of variables\")\n",
    "    plt.xticks(np.arange(1, 10, 1))\n",
    "    plt.yticks(np.arange(0, 1.2, 0.1))\n",
    "    plt.legend()\n",
    "    return plt.show()\n",
    "plot_en()"
   ]
  },
  {
   "cell_type": "markdown",
   "id": "55191999-0497-4e55-932a-5485245e5fe9",
   "metadata": {},
   "source": [
    "#### Analyzing what we have\n",
    "\n",
    "Descrete\n",
    "\n",
    "We see two variables with a high order of disorder - above 0.9 (\"team id\", \"n pit stop\"). The other three columns (\"category\", \"pilot id\", \"weather con\") show relatively low entropy - around 0.3. This is expected, as those three columns consist of three groups of values each.\n",
    "\n",
    "Continuous\n",
    "\n",
    "Columns \"cum race time\" and \"cum time out\" show entropy - around 0.4. Columns \"stint time\" and \"pilot total stint time\" are with entropy - between 0.59 and 0.77.\n",
    "Five of the variables have $-\\infty$ entropy.\n",
    "\n",
    "One column is left outside the scaled entropies: \"n lap\", so we can't compare its entropy (5.93) at all."
   ]
  },
  {
   "cell_type": "markdown",
   "id": "c2953524-024e-4386-a4e2-04d59367db24",
   "metadata": {},
   "source": [
    "#### Building a decision tree\n",
    "\n",
    "We want to optimize the karting competition performance of a team in future competitions on the same track. The crucial task is to know when to pit stop and more precisely how long to stay on the track. There are three variables directly connected to our task: \n",
    " 1. \"stint time\", the duration of stints between pit stops\n",
    " 2. \"stint laps\", the summation of laps between pit stops \n",
    " \n",
    "From our exploration of the entropy of the variables we see that their entropy is: \n",
    " 1. \"stint time\"  0.8\n",
    " 2. \"stint laps\"  - $\\infty$\n",
    "\n",
    "Feature \"stint time\" shows high entropy among continuous features. Variable \"stint laps\" can't be evaluated properly, so let's choose it as the target variable for our tree."
   ]
  },
  {
   "cell_type": "code",
   "execution_count": 15,
   "id": "1ebb3fcf-7d7b-4022-b659-59b9d2d34f13",
   "metadata": {},
   "outputs": [
    {
     "data": {
      "text/plain": [
       "(     team id  category  n pit stop  n lap  cum race time  cum pit time  \\\n",
       " 0         35         3           1     39       0.030104      0.001609   \n",
       " 1         35         3           2     84       0.062373      0.003183   \n",
       " 2         35         3           3    131       0.094201      0.004769   \n",
       " 3         35         3           4    180       0.126435      0.006343   \n",
       " 4         35         3           5    229       0.158565      0.007917   \n",
       " ..       ...       ...         ...    ...            ...           ...   \n",
       " 928       28         1          16    332       0.250220      0.025394   \n",
       " 929       28         1          17    361       0.272234      0.026968   \n",
       " 930       28         1          18    378       0.290926      0.028542   \n",
       " 931       28         1          19    398       0.313345      0.030139   \n",
       " 932       28         1          20    421       0.334016      0.000100   \n",
       " \n",
       "      stint time  pilot id  pilot total stint time  best lap   avg lap  \\\n",
       " 0      0.030104         1                0.030104  0.000714  0.000742   \n",
       " 1      0.030648         2                0.030648  0.007000  0.041000   \n",
       " 2      0.030255         3                0.030255  0.018667  0.016000   \n",
       " 3      0.030637         2                0.061296  0.037667  0.033667   \n",
       " 4      0.030556         3                0.060822  0.025000  0.029667   \n",
       " ..          ...       ...                     ...       ...       ...   \n",
       " 928    0.018218         4                0.057211  0.024000  0.033667   \n",
       " 929    0.020417         2                0.079306  0.022333  0.009000   \n",
       " 930    0.017106         1                0.070035  0.000986  0.001025   \n",
       " 931    0.020833         3                0.078218  0.000909  0.001064   \n",
       " 932    0.019086         4                0.076296  0.000767  0.000863   \n",
       " \n",
       "      pit time  cum time out  weather con  \n",
       " 0    0.001616      0.031713            2  \n",
       " 1    0.001573      0.063947            2  \n",
       " 2    0.001582      0.095787            2  \n",
       " 3    0.001574      0.128009            1  \n",
       " 4    0.001576      0.160150            1  \n",
       " ..        ...           ...          ...  \n",
       " 928  0.001589      0.251806            1  \n",
       " 929  0.001575      0.273808            1  \n",
       " 930  0.001581      0.292500            3  \n",
       " 931  0.001589      0.314931            3  \n",
       " 932  0.000100      0.334016            3  \n",
       " \n",
       " [933 rows x 14 columns],\n",
       " 0      39\n",
       " 1      45\n",
       " 2      47\n",
       " 3      49\n",
       " 4      49\n",
       "        ..\n",
       " 928    29\n",
       " 929    29\n",
       " 930    17\n",
       " 931    20\n",
       " 932    23\n",
       " Name: stint laps, Length: 933, dtype: int64)"
      ]
     },
     "execution_count": 15,
     "metadata": {},
     "output_type": "execute_result"
    }
   ],
   "source": [
    "# Separate the feature columns from the target column\n",
    "\n",
    "features = pit_stops.drop([\"stint laps\"], axis = 1)\n",
    "X = features\n",
    "y = pit_stops[\"stint laps\"]\n",
    "X, y"
   ]
  },
  {
   "cell_type": "code",
   "execution_count": 16,
   "id": "c010fd90-fcbc-4df7-b0cb-cf651261bf16",
   "metadata": {},
   "outputs": [],
   "source": [
    "# Split data into training and test sets\n",
    "\n",
    "X_train, X_test, y_train, y_test = train_test_split(X, y, test_size = 0.30, random_state = 11)"
   ]
  },
  {
   "cell_type": "code",
   "execution_count": 17,
   "id": "e44dc772-6208-4a28-9afb-c329bd3a8fb2",
   "metadata": {},
   "outputs": [
    {
     "data": {
      "text/plain": [
       "((653, 14), (280, 14))"
      ]
     },
     "execution_count": 17,
     "metadata": {},
     "output_type": "execute_result"
    }
   ],
   "source": [
    "# Check the shape of X_train and X_test\n",
    "\n",
    "X_train.shape, X_test.shape"
   ]
  },
  {
   "cell_type": "code",
   "execution_count": 18,
   "id": "eb52b462-ac71-4f6c-9ab2-e9dcaf38afb9",
   "metadata": {},
   "outputs": [
    {
     "data": {
      "text/plain": [
       "team id                     int64\n",
       "category                    int64\n",
       "n pit stop                  int64\n",
       "n lap                       int64\n",
       "cum race time             float64\n",
       "cum pit time              float64\n",
       "stint time                float64\n",
       "pilot id                    int64\n",
       "pilot total stint time    float64\n",
       "best lap                  float64\n",
       "avg lap                   float64\n",
       "pit time                  float64\n",
       "cum time out              float64\n",
       "weather con                 int64\n",
       "dtype: object"
      ]
     },
     "execution_count": 18,
     "metadata": {},
     "output_type": "execute_result"
    }
   ],
   "source": [
    "# Check formatting\n",
    "\n",
    "X_train.dtypes"
   ]
  },
  {
   "cell_type": "code",
   "execution_count": 19,
   "id": "02233a98-4e12-4bf5-a2ab-337b49ee0986",
   "metadata": {},
   "outputs": [
    {
     "data": {
      "text/html": [
       "<style>#sk-container-id-1 {color: black;background-color: white;}#sk-container-id-1 pre{padding: 0;}#sk-container-id-1 div.sk-toggleable {background-color: white;}#sk-container-id-1 label.sk-toggleable__label {cursor: pointer;display: block;width: 100%;margin-bottom: 0;padding: 0.3em;box-sizing: border-box;text-align: center;}#sk-container-id-1 label.sk-toggleable__label-arrow:before {content: \"▸\";float: left;margin-right: 0.25em;color: #696969;}#sk-container-id-1 label.sk-toggleable__label-arrow:hover:before {color: black;}#sk-container-id-1 div.sk-estimator:hover label.sk-toggleable__label-arrow:before {color: black;}#sk-container-id-1 div.sk-toggleable__content {max-height: 0;max-width: 0;overflow: hidden;text-align: left;background-color: #f0f8ff;}#sk-container-id-1 div.sk-toggleable__content pre {margin: 0.2em;color: black;border-radius: 0.25em;background-color: #f0f8ff;}#sk-container-id-1 input.sk-toggleable__control:checked~div.sk-toggleable__content {max-height: 200px;max-width: 100%;overflow: auto;}#sk-container-id-1 input.sk-toggleable__control:checked~label.sk-toggleable__label-arrow:before {content: \"▾\";}#sk-container-id-1 div.sk-estimator input.sk-toggleable__control:checked~label.sk-toggleable__label {background-color: #d4ebff;}#sk-container-id-1 div.sk-label input.sk-toggleable__control:checked~label.sk-toggleable__label {background-color: #d4ebff;}#sk-container-id-1 input.sk-hidden--visually {border: 0;clip: rect(1px 1px 1px 1px);clip: rect(1px, 1px, 1px, 1px);height: 1px;margin: -1px;overflow: hidden;padding: 0;position: absolute;width: 1px;}#sk-container-id-1 div.sk-estimator {font-family: monospace;background-color: #f0f8ff;border: 1px dotted black;border-radius: 0.25em;box-sizing: border-box;margin-bottom: 0.5em;}#sk-container-id-1 div.sk-estimator:hover {background-color: #d4ebff;}#sk-container-id-1 div.sk-parallel-item::after {content: \"\";width: 100%;border-bottom: 1px solid gray;flex-grow: 1;}#sk-container-id-1 div.sk-label:hover label.sk-toggleable__label {background-color: #d4ebff;}#sk-container-id-1 div.sk-serial::before {content: \"\";position: absolute;border-left: 1px solid gray;box-sizing: border-box;top: 0;bottom: 0;left: 50%;z-index: 0;}#sk-container-id-1 div.sk-serial {display: flex;flex-direction: column;align-items: center;background-color: white;padding-right: 0.2em;padding-left: 0.2em;position: relative;}#sk-container-id-1 div.sk-item {position: relative;z-index: 1;}#sk-container-id-1 div.sk-parallel {display: flex;align-items: stretch;justify-content: center;background-color: white;position: relative;}#sk-container-id-1 div.sk-item::before, #sk-container-id-1 div.sk-parallel-item::before {content: \"\";position: absolute;border-left: 1px solid gray;box-sizing: border-box;top: 0;bottom: 0;left: 50%;z-index: -1;}#sk-container-id-1 div.sk-parallel-item {display: flex;flex-direction: column;z-index: 1;position: relative;background-color: white;}#sk-container-id-1 div.sk-parallel-item:first-child::after {align-self: flex-end;width: 50%;}#sk-container-id-1 div.sk-parallel-item:last-child::after {align-self: flex-start;width: 50%;}#sk-container-id-1 div.sk-parallel-item:only-child::after {width: 0;}#sk-container-id-1 div.sk-dashed-wrapped {border: 1px dashed gray;margin: 0 0.4em 0.5em 0.4em;box-sizing: border-box;padding-bottom: 0.4em;background-color: white;}#sk-container-id-1 div.sk-label label {font-family: monospace;font-weight: bold;display: inline-block;line-height: 1.2em;}#sk-container-id-1 div.sk-label-container {text-align: center;}#sk-container-id-1 div.sk-container {/* jupyter's `normalize.less` sets `[hidden] { display: none; }` but bootstrap.min.css set `[hidden] { display: none !important; }` so we also need the `!important` here to be able to override the default hidden behavior on the sphinx rendered scikit-learn.org. See: https://github.com/scikit-learn/scikit-learn/issues/21755 */display: inline-block !important;position: relative;}#sk-container-id-1 div.sk-text-repr-fallback {display: none;}</style><div id=\"sk-container-id-1\" class=\"sk-top-container\"><div class=\"sk-text-repr-fallback\"><pre>DecisionTreeClassifier(criterion=&#x27;entropy&#x27;, random_state=0)</pre><b>In a Jupyter environment, please rerun this cell to show the HTML representation or trust the notebook. <br />On GitHub, the HTML representation is unable to render, please try loading this page with nbviewer.org.</b></div><div class=\"sk-container\" hidden><div class=\"sk-item\"><div class=\"sk-estimator sk-toggleable\"><input class=\"sk-toggleable__control sk-hidden--visually\" id=\"sk-estimator-id-1\" type=\"checkbox\" checked><label for=\"sk-estimator-id-1\" class=\"sk-toggleable__label sk-toggleable__label-arrow\">DecisionTreeClassifier</label><div class=\"sk-toggleable__content\"><pre>DecisionTreeClassifier(criterion=&#x27;entropy&#x27;, random_state=0)</pre></div></div></div></div></div>"
      ],
      "text/plain": [
       "DecisionTreeClassifier(criterion='entropy', random_state=0)"
      ]
     },
     "execution_count": 19,
     "metadata": {},
     "output_type": "execute_result"
    }
   ],
   "source": [
    "# Build a decision tree with criterion entropy\n",
    "\n",
    "clf_entropy = DecisionTreeClassifier(criterion = \"entropy\", random_state = 0)\n",
    "clf_entropy.fit(X_train, y_train)"
   ]
  },
  {
   "cell_type": "code",
   "execution_count": 20,
   "id": "8a853b6a-922c-423d-9f77-8ccb836dcd40",
   "metadata": {},
   "outputs": [],
   "source": [
    "# Predict the Test set results with criterion entropy\n",
    "\n",
    "y_pred_entropy = clf_entropy.predict(X_test)"
   ]
  },
  {
   "cell_type": "code",
   "execution_count": 21,
   "id": "ecb53ef9-f033-496c-99d6-278464ca2f4a",
   "metadata": {},
   "outputs": [
    {
     "data": {
      "image/png": "[encoded data removed]",
      "text/plain": [
       "<Figure size 640x480 with 1 Axes>"
      ]
     },
     "metadata": {},
     "output_type": "display_data"
    }
   ],
   "source": [
    "# Plot the tree\n",
    "\n",
    "tree.plot_tree(clf_entropy)\n",
    "plt.show()"
   ]
  },
  {
   "cell_type": "code",
   "execution_count": 22,
   "id": "14cc761b-7687-49fa-b980-89cde321e2f4",
   "metadata": {},
   "outputs": [
    {
     "name": "stdout",
     "output_type": "stream",
     "text": [
      "Model accuracy score: 0.5679\n"
     ]
    }
   ],
   "source": [
    "# Predict the Test set results with criterion entropy\n",
    "\n",
    "y_pred_entropy = clf_entropy.predict(X_test)\n",
    "\n",
    "# Check accuracy score with criterion entropy\n",
    "\n",
    "print(\"Model accuracy score: {0:0.4f}\".format(accuracy_score(y_test, y_pred_entropy)))"
   ]
  },
  {
   "cell_type": "markdown",
   "id": "dbd2e76e-4d0b-4afc-a693-80adae0a65e7",
   "metadata": {},
   "source": [
    "When heterogenity is strongly present in the data, decision trees tent to branch out a lot. So let's check our model for overfitting. Fast check shows that the increase in max depth above 10 do not improve accurcy. So let's set a max depth to 10."
   ]
  },
  {
   "cell_type": "code",
   "execution_count": 23,
   "id": "5917d6c8-d1ec-4c14-ab73-0e7a0e1485d8",
   "metadata": {},
   "outputs": [
    {
     "name": "stdout",
     "output_type": "stream",
     "text": [
      "Model accuracy score: 0.5679\n"
     ]
    }
   ],
   "source": [
    "# Lets do it better\n",
    "\n",
    "clf_entropy = DecisionTreeClassifier(criterion = \"entropy\", max_depth = 10, random_state = 0)\n",
    "clf_entropy.fit(X_train, y_train)\n",
    "\n",
    "# Predict the Test set results with criterion entropy\n",
    "\n",
    "y_pred_entropy = clf_entropy.predict(X_test)\n",
    "\n",
    "# Check accuracy score with criterion entropy\n",
    "\n",
    "print(\"Model accuracy score: {0:0.4f}\".format(accuracy_score(y_test, y_pred_entropy)))"
   ]
  },
  {
   "cell_type": "code",
   "execution_count": 24,
   "id": "8975f22e-2b38-49bf-a215-58e0410d6ea2",
   "metadata": {},
   "outputs": [
    {
     "data": {
      "text/plain": [
       "array([ 1, 36, 49, 29,  5, 38,  1, 34, 49, 16, 47, 37, 46, 29, 47,  1,  5,\n",
       "        1, 38,  1, 22, 25, 47, 25,  1,  1,  8,  1, 24, 23, 39, 14,  2,  6,\n",
       "       26, 49, 14,  1, 17,  1, 29, 18, 44, 12, 13,  1,  1, 18, 49, 50, 47,\n",
       "       10, 48, 37,  9, 14, 28,  1,  1, 49, 26, 22,  3,  2,  1,  1, 43, 32,\n",
       "        1, 24, 18, 37,  1, 19, 15,  1, 44, 47, 14,  1, 49, 36, 46, 49, 45,\n",
       "       38, 12, 18, 28, 14, 43, 29, 47, 41, 50, 27, 48, 44, 17,  5, 43, 12,\n",
       "       30, 50, 13, 29, 45, 49, 37, 47, 32,  1, 38, 25,  1, 17, 38, 50, 48,\n",
       "       14,  1,  6, 24,  1, 11,  6, 44, 38,  1, 47, 37, 26, 28,  1, 49, 42,\n",
       "       29, 28, 40, 42, 41, 43, 14,  6, 49, 41, 22, 25, 21,  1, 31,  1,  8,\n",
       "       43, 39,  1, 11,  2, 22,  2, 47,  5,  6,  9, 46,  1,  2, 33,  2,  1,\n",
       "        1, 24, 43,  1, 32, 32, 14, 41, 46, 25,  9, 42, 28, 16, 29, 10, 37,\n",
       "       32, 31, 30, 43,  1, 17,  5,  7, 34,  8, 47, 15, 42, 47,  2,  1, 37,\n",
       "       34, 50, 32, 14,  4,  8, 26, 25, 12,  1, 21, 50, 21, 46, 48, 14, 47,\n",
       "       35, 15, 49, 32, 49, 17, 20,  1,  1,  1, 49, 24,  1, 47, 38, 50,  2,\n",
       "       21,  8,  1, 21, 36,  1, 50, 30,  3, 21, 38,  1, 32, 32, 22,  1, 26,\n",
       "       47, 45, 19, 16, 38, 33, 27, 21, 17, 18, 23,  1, 47, 23, 19,  1, 25,\n",
       "        8, 43, 36, 47,  3, 24, 21, 45], dtype=int64)"
      ]
     },
     "execution_count": 24,
     "metadata": {},
     "output_type": "execute_result"
    }
   ],
   "source": [
    "# Let's vizualize the predicted outcoumes\n",
    "\n",
    "y_pred_entropy"
   ]
  },
  {
   "cell_type": "markdown",
   "id": "442eda13-c5dc-4f2b-a471-9792419fe3d6",
   "metadata": {},
   "source": [
    "### Conclusion\n",
    "\n",
    "After an exploration of the entropy of the dataset, we see that variables of interest are rather heterogeneous than homogeneous, also many are \"not readable\". Thus the data is harder to be modeled. It looks to me like there are too many branches of our tree. The model we built doesn't have the needed simplicity and shows an unsatisfying prediction accuracy score (0.57). It needs more work and further optimizations."
   ]
  },
  {
   "cell_type": "markdown",
   "id": "c9ff0363-3095-43cb-94c1-9619af70b0ac",
   "metadata": {},
   "source": [
    "## References\n",
    "\n",
    "[wikipedia.org](https://en.wikipedia.org/)\n",
    "\n",
    "[\"Decision-Tree Classification with Python and Scikit-Learn\" git hub](https://gist.github.com/pb111/af439e4affb1dd94879579cfd6793770)\n",
    "\n",
    "[\"Entropy Estimation Using Numerical Methods\" link.springer.com ](https://link.springer.com/article/10.1007/s40745-015-0045-9)\n",
    "\n",
    "[\"Entropy: How Decision Trees Make Decisions\" towardsdatascience.com](https://towardsdatascience.com/entropy-how-decision-trees-make-decisions-2946b9c18c8)"
   ]
  }
 ],
 "metadata": {
  "kernelspec": {
   "display_name": "Python 3 (ipykernel)",
   "language": "python",
   "name": "python3"
  },
  "language_info": {
   "codemirror_mode": {
    "name": "ipython",
    "version": 3
   },
   "file_extension": ".py",
   "mimetype": "text/x-python",
   "name": "python",
   "nbconvert_exporter": "python",
   "pygments_lexer": "ipython3",
   "version": "3.9.16"
  }
 },
 "nbformat": 4,
 "nbformat_minor": 5
}
